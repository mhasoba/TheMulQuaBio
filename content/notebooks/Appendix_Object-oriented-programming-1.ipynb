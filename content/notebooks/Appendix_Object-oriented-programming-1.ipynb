{
 "cells": [
  {
   "cell_type": "markdown",
   "metadata": {},
   "source": [
    "# Object-Oriented Programming"
   ]
  },
  {
   "cell_type": "markdown",
   "metadata": {},
   "source": [
    "## Introduction"
   ]
  },
  {
   "cell_type": "markdown",
   "metadata": {},
   "source": [
    "After you have been coding for a little bit of time, you may come across some people talking about **object-oriented programming** or **OOP** for short. This could be accompanied by scary words like \"inheritance\", \"overloading\", and \"children\" too. But never fear, for not only is OOP a useful coding paradigm, but it is also incredibly easy to implement in python.\n",
    "\n",
    "For this session I am assuming that you are working in Python 3, however I don't believe many of the basics have changed since Python 2, nonetheless it's worthwhile learning the version that isn't over 20 years old..."
   ]
  },
  {
   "cell_type": "markdown",
   "metadata": {},
   "source": [
    "## What is OOP?"
   ]
  },
  {
   "cell_type": "markdown",
   "metadata": {},
   "source": [
    "Put simply, object-oriented programming is a way of thinking about programming outside of the classic \"run this function on this variable\" style. Instead we can think of the data we are considering as an **object**.\n",
    "\n",
    "This object could have properties and things that the object can do. In python we refer to an object as a `class`, with the properties called `attributes` and the things it can do referred to as `methods`.\n",
    "\n",
    "You can think of a `class` as a template for an object, so if you consider the thing you are sitting on, it is a chair. More specifically it is *that particular chair you are sitting on*. In that vein, you are sitting on an *instance* of class `chair`.\n",
    "\n",
    "Other people will have different instances of class `chair`, and each instance is unique, with its own property values. If you cut the leg off your chair, it does not remove a leg from everybody else's chair, just decreses the leg count of your chair by 1.\n",
    "\n",
    "If that all sounds a bit abstract, don't worry. It is. But the vocabulary above will be used throughout and should help you grasp the concepts as we go."
   ]
  },
  {
   "cell_type": "markdown",
   "metadata": {},
   "source": [
    "## Our first `class`"
   ]
  },
  {
   "cell_type": "markdown",
   "metadata": {},
   "source": [
    "Let's build our first class. First open a new file called `OOP.py`.\n",
    "\n",
    "To make a class in python we use the `class` keyword.\n",
    "\n",
    "To define a method of a class, you simply make a function within the class definition, but it does need a special argument called `self`. We will come to why that is in a little bit.\n",
    "\n",
    "To define attributes of a class we assign values to `self.x` for any given attribute `x`.\n",
    "\n",
    "Defining a class is not good enough on its own though. We also need to define a method of the class called `__init__()`. This method is run when you create an instance of a class, and generates the properties of the *instance*.\n",
    "\n",
    "Here is the skeleton for creating our first class, the class for a square:"
   ]
  },
  {
   "cell_type": "code",
   "execution_count": 26,
   "metadata": {},
   "outputs": [],
   "source": [
    "class square:                   # Create class \"test\"\n",
    "    def __init__(self):         # Define init method\n",
    "        self.side_length = 2    # Set side_length to the value 1"
   ]
  },
  {
   "cell_type": "markdown",
   "metadata": {},
   "source": [
    "Now we have created our class, we can make an instance of the class `test`. Let's call that `instance1`."
   ]
  },
  {
   "cell_type": "code",
   "execution_count": 27,
   "metadata": {},
   "outputs": [],
   "source": [
    "square1 = square()"
   ]
  },
  {
   "cell_type": "markdown",
   "metadata": {},
   "source": [
    "So now we have the instance assigned to the name `instance1`, we can check that attribute `property1` by writing `instance.property`."
   ]
  },
  {
   "cell_type": "code",
   "execution_count": 28,
   "metadata": {},
   "outputs": [
    {
     "data": {
      "text/plain": [
       "2"
      ]
     },
     "execution_count": 28,
     "metadata": {},
     "output_type": "execute_result"
    }
   ],
   "source": [
    "square1.side_length"
   ]
  },
  {
   "cell_type": "markdown",
   "metadata": {},
   "source": [
    "We can manipulate this attribute directly if we want like a normal variable."
   ]
  },
  {
   "cell_type": "code",
   "execution_count": 29,
   "metadata": {},
   "outputs": [
    {
     "data": {
      "text/plain": [
       "4"
      ]
     },
     "execution_count": 29,
     "metadata": {},
     "output_type": "execute_result"
    }
   ],
   "source": [
    "square1.side_length = 4\n",
    "square1.side_length"
   ]
  },
  {
   "cell_type": "markdown",
   "metadata": {},
   "source": [
    "In fact it is like a normal variable in every way except that it is encapsulated in this class.\n",
    "\n",
    "Notice how we cannot access attributes which are not there..."
   ]
  },
  {
   "cell_type": "code",
   "execution_count": 30,
   "metadata": {},
   "outputs": [
    {
     "ename": "AttributeError",
     "evalue": "'square' object has no attribute 'area'",
     "output_type": "error",
     "traceback": [
      "\u001b[0;31m---------------------------------------------------------------------------\u001b[0m",
      "\u001b[0;31mAttributeError\u001b[0m                            Traceback (most recent call last)",
      "\u001b[0;32m<ipython-input-30-1b12e89d9648>\u001b[0m in \u001b[0;36m<module>\u001b[0;34m\u001b[0m\n\u001b[0;32m----> 1\u001b[0;31m \u001b[0msquare1\u001b[0m\u001b[0;34m.\u001b[0m\u001b[0marea\u001b[0m\u001b[0;34m\u001b[0m\u001b[0;34m\u001b[0m\u001b[0m\n\u001b[0m",
      "\u001b[0;31mAttributeError\u001b[0m: 'square' object has no attribute 'area'"
     ]
    }
   ],
   "source": [
    "square1.area"
   ]
  },
  {
   "cell_type": "markdown",
   "metadata": {},
   "source": [
    "However we can assign into attributes that were not made when the instance was first defined."
   ]
  },
  {
   "cell_type": "code",
   "execution_count": 31,
   "metadata": {},
   "outputs": [
    {
     "data": {
      "text/plain": [
       "16"
      ]
     },
     "execution_count": 31,
     "metadata": {},
     "output_type": "execute_result"
    }
   ],
   "source": [
    "square1.area = square1.side_length ** 2\n",
    "square1.area"
   ]
  },
  {
   "cell_type": "markdown",
   "metadata": {},
   "source": [
    "## Rectangles and arguments"
   ]
  },
  {
   "cell_type": "markdown",
   "metadata": {},
   "source": [
    "Now let's define a slightly more complicated class for a rectangle. This rectangle can be of arbitrary dimensions `x`, `y`. These dimensions will be specified when creating an instance of the object (also known as *instantiating* the object).\n",
    "\n",
    "To handle this, we need to add a few arguments to the `__init__()` method."
   ]
  },
  {
   "cell_type": "code",
   "execution_count": 35,
   "metadata": {},
   "outputs": [],
   "source": [
    "class rectangle:\n",
    "    def __init__(self, x, y):    # x and y are arguments of the init method\n",
    "        self.x = x\n",
    "        self.y = y"
   ]
  },
  {
   "cell_type": "markdown",
   "metadata": {},
   "source": [
    "Now let's create a 4x3 rectangle:"
   ]
  },
  {
   "cell_type": "code",
   "execution_count": 37,
   "metadata": {},
   "outputs": [
    {
     "data": {
      "text/plain": [
       "4"
      ]
     },
     "execution_count": 37,
     "metadata": {},
     "output_type": "execute_result"
    }
   ],
   "source": [
    "rectangle1 = rectangle(4,3)\n",
    "rectangle1.x"
   ]
  },
  {
   "cell_type": "code",
   "execution_count": 38,
   "metadata": {},
   "outputs": [
    {
     "data": {
      "text/plain": [
       "3"
      ]
     },
     "execution_count": 38,
     "metadata": {},
     "output_type": "execute_result"
    }
   ],
   "source": [
    "rectangle1.y"
   ]
  },
  {
   "cell_type": "markdown",
   "metadata": {},
   "source": [
    "Now to find the area, we can just calculate it outside the instance, and assign it to a new attribute as follows:"
   ]
  },
  {
   "cell_type": "code",
   "execution_count": 39,
   "metadata": {},
   "outputs": [
    {
     "data": {
      "text/plain": [
       "12"
      ]
     },
     "execution_count": 39,
     "metadata": {},
     "output_type": "execute_result"
    }
   ],
   "source": [
    "rectangle1.area = rectangle1.x * rectangle1.y\n",
    "rectangle1.area"
   ]
  },
  {
   "cell_type": "markdown",
   "metadata": {},
   "source": [
    "But this is an operation we might want to do to each rectangle. So what do we do when something is repeatedly needed? We turn it into a function. Specifically here we are going to make a `method` of the object.\n",
    "\n",
    "A `method` is special in that it takes the argument `self` as its first argument. This value `self` refers to the instance that the method belongs to.\n",
    "\n",
    "So let's define a method to calculate the area of an object of class rectangle:"
   ]
  },
  {
   "cell_type": "code",
   "execution_count": 42,
   "metadata": {},
   "outputs": [],
   "source": [
    "class rectangle:\n",
    "    def __init__(self, x, y):\n",
    "        self.x = x\n",
    "        self.y = y\n",
    "        self.area = 0     # It is usually safest to create the attribute first with a dummy value.\n",
    "    \n",
    "    def calc_area(self):\n",
    "        self.area = self.x * self.y"
   ]
  },
  {
   "cell_type": "markdown",
   "metadata": {},
   "source": [
    "So now we can instantiate the new rectangle as before, and then use the method to calculate the area automatically by calling `rectangle.calc_area()`. The brackets here are important as remember `calc_area()` is basically just a *function*."
   ]
  },
  {
   "cell_type": "code",
   "execution_count": 44,
   "metadata": {},
   "outputs": [
    {
     "data": {
      "text/plain": [
       "0"
      ]
     },
     "execution_count": 44,
     "metadata": {},
     "output_type": "execute_result"
    }
   ],
   "source": [
    "rectangle2 = rectangle(4,3)\n",
    "rectangle2.area"
   ]
  },
  {
   "cell_type": "markdown",
   "metadata": {},
   "source": [
    "Oops, we forgot to run `calc_area()`, so the area value is just the default we set. Let's change that."
   ]
  },
  {
   "cell_type": "code",
   "execution_count": 45,
   "metadata": {},
   "outputs": [
    {
     "data": {
      "text/plain": [
       "12"
      ]
     },
     "execution_count": 45,
     "metadata": {},
     "output_type": "execute_result"
    }
   ],
   "source": [
    "rectangle2.calc_area()\n",
    "rectangle2.area"
   ]
  },
  {
   "cell_type": "markdown",
   "metadata": {},
   "source": [
    "Perfect. But that was annoying. We know what the area will be once we instantiate the rectangle with values for the sides, so is there some way to save some time?\n",
    "\n",
    "As a little trick, we can call other methods in the `__init__()` method to make them run as soon as we instantiate the object, like so:"
   ]
  },
  {
   "cell_type": "code",
   "execution_count": 53,
   "metadata": {},
   "outputs": [],
   "source": [
    "class rectangle:\n",
    "    def __init__(self, x, y):\n",
    "        self.x = x\n",
    "        self.y = y\n",
    "        self.calc_area()     # Run the method calc_area() of the object immediately\n",
    "    \n",
    "    def calc_area(self):\n",
    "        self.area = self.x * self.y"
   ]
  },
  {
   "cell_type": "code",
   "execution_count": 54,
   "metadata": {},
   "outputs": [
    {
     "data": {
      "text/plain": [
       "12"
      ]
     },
     "execution_count": 54,
     "metadata": {},
     "output_type": "execute_result"
    }
   ],
   "source": [
    "rectangle3 = rectangle(4,3)\n",
    "rectangle3.area"
   ]
  },
  {
   "cell_type": "markdown",
   "metadata": {},
   "source": [
    "### Challenge 1\n",
    "Make a class `circle` that takes the radius of a circle as an argument at instantiation, and calculates its area and circumference automatically."
   ]
  },
  {
   "cell_type": "markdown",
   "metadata": {},
   "source": [
    "## A more useful example"
   ]
  },
  {
   "cell_type": "markdown",
   "metadata": {},
   "source": [
    "To understand OOP, it is useful to have a more concrete example to work with, so let us think about chairs.\n",
    "\n",
    "Here's a chair class:"
   ]
  },
  {
   "cell_type": "code",
   "execution_count": 58,
   "metadata": {},
   "outputs": [],
   "source": [
    "class chair:\n",
    "    def __init__(self, legs, height, colour):\n",
    "        self.legs = legs\n",
    "        self.height = height\n",
    "        self.colour = colour\n",
    "    \n",
    "    def paint(self, newcolour):    # A new method! Notice how it can take extra arguments aside from self\n",
    "        self.colour = newcolour\n"
   ]
  },
  {
   "cell_type": "markdown",
   "metadata": {},
   "source": [
    "`chair1` is a very typical chair with 4 legs, is 0.8m tall, and is coloured green."
   ]
  },
  {
   "cell_type": "code",
   "execution_count": 64,
   "metadata": {},
   "outputs": [
    {
     "data": {
      "text/plain": [
       "4"
      ]
     },
     "execution_count": 64,
     "metadata": {},
     "output_type": "execute_result"
    }
   ],
   "source": [
    "chair1 = chair(4, 0.8, \"green\")\n",
    "chair1.legs"
   ]
  },
  {
   "cell_type": "code",
   "execution_count": 65,
   "metadata": {},
   "outputs": [
    {
     "data": {
      "text/plain": [
       "0.8"
      ]
     },
     "execution_count": 65,
     "metadata": {},
     "output_type": "execute_result"
    }
   ],
   "source": [
    "chair1.height"
   ]
  },
  {
   "cell_type": "code",
   "execution_count": 66,
   "metadata": {},
   "outputs": [
    {
     "data": {
      "text/plain": [
       "'green'"
      ]
     },
     "execution_count": 66,
     "metadata": {},
     "output_type": "execute_result"
    }
   ],
   "source": [
    "chair1.colour"
   ]
  },
  {
   "cell_type": "markdown",
   "metadata": {},
   "source": [
    "Now let's use the `paint()` method of the chair class to repaint the chair a different colour"
   ]
  },
  {
   "cell_type": "code",
   "execution_count": 67,
   "metadata": {},
   "outputs": [
    {
     "data": {
      "text/plain": [
       "'purple'"
      ]
     },
     "execution_count": 67,
     "metadata": {},
     "output_type": "execute_result"
    }
   ],
   "source": [
    "chair1.paint(\"purple\")\n",
    "chair1.colour"
   ]
  },
  {
   "cell_type": "markdown",
   "metadata": {},
   "source": [
    "### Challenge 2\n",
    "Modify the chair class to make the height adjustable by certain amounts using the `raise()` and `lower()` methods.\n",
    "\n",
    "**NOTE: There are some heights that are not reasonable, it might be best to check that the height is within reasonable bounds**"
   ]
  },
  {
   "cell_type": "markdown",
   "metadata": {},
   "source": [
    "## Passing around objects"
   ]
  },
  {
   "cell_type": "markdown",
   "metadata": {},
   "source": [
    "An object can be passed around just like any other data. You can pack it into lists, put it in dictionaries, even pass it into functions.\n",
    "\n",
    "Let's create a function that works on chair objects."
   ]
  },
  {
   "cell_type": "code",
   "execution_count": 79,
   "metadata": {},
   "outputs": [
    {
     "name": "stdout",
     "output_type": "stream",
     "text": [
      "2\n",
      "1\n"
     ]
    }
   ],
   "source": [
    "def saw_leg(c):\n",
    "    if c.legs > 0:   # A chair cannot have fewer than 0 legs\n",
    "        c.legs = c.legs - 1\n",
    "\n",
    "print(chair1.legs)\n",
    "\n",
    "saw_leg(chair1)\n",
    "print(chair1.legs)"
   ]
  },
  {
   "cell_type": "markdown",
   "metadata": {},
   "source": [
    "Notice how even though we didn't return the chair object at the end of the function, it *still* affected the chair object.\n",
    "\n",
    "**This is something to be very careful of!**\n",
    "\n",
    "An object name in python is essentially just a pointer to where the object is in memory. If you do things to that pointer in a function, it can affect the object directly!\n",
    "\n",
    "In general it is good practice when working with functions that manipulate objects to return the object at the end. This means the function behaves as expected, which is what we should always be striving for when programming: predictibility."
   ]
  },
  {
   "cell_type": "code",
   "execution_count": 80,
   "metadata": {},
   "outputs": [
    {
     "data": {
      "text/plain": [
       "0"
      ]
     },
     "execution_count": 80,
     "metadata": {},
     "output_type": "execute_result"
    }
   ],
   "source": [
    "def saw_leg(c):\n",
    "    if c.legs > 0:\n",
    "        c.legs = c.legs - 1\n",
    "    return c\n",
    "\n",
    "chair1 = saw_leg(chair1)\n",
    "chair1.legs"
   ]
  },
  {
   "cell_type": "markdown",
   "metadata": {},
   "source": [
    "As stated above we could make a list of chairs too."
   ]
  },
  {
   "cell_type": "code",
   "execution_count": 83,
   "metadata": {},
   "outputs": [
    {
     "name": "stdout",
     "output_type": "stream",
     "text": [
      "5\n",
      "8\n",
      "10\n",
      "8\n",
      "9\n",
      "10\n",
      "8\n",
      "2\n",
      "1\n",
      "4\n"
     ]
    }
   ],
   "source": [
    "import random\n",
    "\n",
    "chair_stack = []\n",
    "for x in range(10):\n",
    "    # Make 10 green chairs with random numbers of legs and random heights\n",
    "    chair_stack.append(chair(random.randint(1, 10), random.random()*2, \"green\"))\n",
    "\n",
    "for c in chair_stack:\n",
    "    print(c.legs)"
   ]
  },
  {
   "cell_type": "markdown",
   "metadata": {},
   "source": [
    "We can manipulate this as we would a list of any other thing. Here's a list comprehension that saws a leg off each chair if we can."
   ]
  },
  {
   "cell_type": "code",
   "execution_count": 84,
   "metadata": {},
   "outputs": [
    {
     "name": "stdout",
     "output_type": "stream",
     "text": [
      "4\n",
      "7\n",
      "9\n",
      "7\n",
      "8\n",
      "9\n",
      "7\n",
      "1\n",
      "0\n",
      "3\n"
     ]
    }
   ],
   "source": [
    "chair_stack = [saw_leg(c) for c in chair_stack]\n",
    "for c in chair_stack:\n",
    "    print(c.legs)"
   ]
  },
  {
   "cell_type": "markdown",
   "metadata": {},
   "source": [
    "## OOP in biology"
   ]
  },
  {
   "cell_type": "markdown",
   "metadata": {},
   "source": [
    "In biology, our data are often comprised of samples of individuals. If we know the attributes of the individuals that we are measuring, we can write a class that will handle each individual as a seperate instance."
   ]
  },
  {
   "cell_type": "code",
   "execution_count": 92,
   "metadata": {},
   "outputs": [
    {
     "name": "stdout",
     "output_type": "stream",
     "text": [
      "58.119464091411174\n"
     ]
    }
   ],
   "source": [
    "from math import pi\n",
    "\n",
    "class spider:\n",
    "    def __init__(self, body_weight, web_diameter_horizontal, web_diameter_vertical, hub_diameter, mesh_width):\n",
    "        self.bw = body_weight\n",
    "        self.dh = web_diameter_horizontal\n",
    "        self.dv = web_diameter_vertical\n",
    "        self.h = hub_diameter\n",
    "        self.mw = mesh_width\n",
    "        self.calc_ca()\n",
    "    \n",
    "    def calc_ca(self):\n",
    "        # Calculate capture area using Ellipse-Hub formula\n",
    "        self.ca = ((self.dv/2)*(self.dh/2)*pi) - ((self.h/2)*pi)\n",
    "        \n",
    "spidey1 = spider(1, 10, 8, 3, 1.4)\n",
    "print(spidey1.ca)"
   ]
  },
  {
   "cell_type": "markdown",
   "metadata": {},
   "source": [
    "As we're building a project, it can be useful to have a defined data structure that is easy to access and interrogate. This is where using custom classes really shines. Why have to do something like `data[14][2] * data[14][3]` when you can say `spider.length * spider.weight`? It's easier to understand, easier to manage, and easier to work with overall."
   ]
  },
  {
   "cell_type": "markdown",
   "metadata": {},
   "source": [
    "### Challenge 3 (optional)\n",
    "Make a copy of your `get_Treeheight.py` script from Week 3 and then modify it to store and manipulate the data for each tree in an object of class `Tree`."
   ]
  },
  {
   "cell_type": "markdown",
   "metadata": {},
   "source": [
    "## Outro\n",
    "There is a lot more to classes than just what we've covered here, however this should at least have served as a bit of an introduction to object-oriented programming. In an upcoming notebook I will delve a bit more into some special things you can do with your own custom classes, and how you can make them even more powerful than shown here."
   ]
  }
 ],
 "metadata": {
  "kernelspec": {
   "display_name": "Python 3",
   "language": "python",
   "name": "python3"
  },
  "language_info": {
   "codemirror_mode": {
    "name": "ipython",
    "version": 3
   },
   "file_extension": ".py",
   "mimetype": "text/x-python",
   "name": "python",
   "nbconvert_exporter": "python",
   "pygments_lexer": "ipython3",
   "version": "3.8.2"
  },
  "toc": {
   "base_numbering": 1,
   "nav_menu": {},
   "number_sections": true,
   "sideBar": true,
   "skip_h1_title": false,
   "title_cell": "Table of Contents",
   "title_sidebar": "Contents",
   "toc_cell": false,
   "toc_position": {},
   "toc_section_display": true,
   "toc_window_display": false
  }
 },
 "nbformat": 4,
 "nbformat_minor": 4
}

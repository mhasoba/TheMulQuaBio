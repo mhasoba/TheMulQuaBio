{
 "cells": [
  {
   "cell_type": "markdown",
   "metadata": {},
   "source": [
    "# Object-Oriented Programming 2"
   ]
  },
  {
   "cell_type": "markdown",
   "metadata": {},
   "source": [
    "In the previous workbook we touched on the basics of OOP in python. This should be enough to get you going with programming in an object-oriented manner, however objects in python can be MUCH more powerful than demonstrated there. Using various bits of magic that are either general properties of OOP, or specific to the python implementation, we can do a lot!"
   ]
  },
  {
   "cell_type": "markdown",
   "metadata": {},
   "source": [
    "## \"Dunder\" methods\n",
    "\n",
    "### Making our classes more usable"
   ]
  },
  {
   "cell_type": "markdown",
   "metadata": {},
   "source": [
    "Let's start with the chair class we created in the last session:"
   ]
  },
  {
   "cell_type": "code",
   "execution_count": 1,
   "metadata": {},
   "outputs": [],
   "source": [
    "class chair:\n",
    "    def __init__(self, legs, height, colour):\n",
    "        self.legs = legs\n",
    "        self.height = height\n",
    "        self.colour = colour\n",
    "    \n",
    "    def paint(self, newcolour):\n",
    "        self.colour = newcolour"
   ]
  },
  {
   "cell_type": "code",
   "execution_count": 2,
   "metadata": {},
   "outputs": [],
   "source": [
    "my_chair = chair(6, 0.8, \"black\")"
   ]
  },
  {
   "cell_type": "markdown",
   "metadata": {},
   "source": [
    "Now usually for an object, if we want to know what is in it, we can print it, like so:"
   ]
  },
  {
   "cell_type": "code",
   "execution_count": 3,
   "metadata": {},
   "outputs": [
    {
     "name": "stdout",
     "output_type": "stream",
     "text": [
      "[1, 2, 3]\n"
     ]
    }
   ],
   "source": [
    "testlist = [1,2,3]\n",
    "print(testlist)"
   ]
  },
  {
   "cell_type": "markdown",
   "metadata": {},
   "source": [
    "Let's see what happens if we print our chair instance."
   ]
  },
  {
   "cell_type": "code",
   "execution_count": 4,
   "metadata": {},
   "outputs": [
    {
     "name": "stdout",
     "output_type": "stream",
     "text": [
      "<__main__.chair object at 0x7f70903cc550>\n"
     ]
    }
   ],
   "source": [
    "print(my_chair)"
   ]
  },
  {
   "cell_type": "markdown",
   "metadata": {},
   "source": [
    "Obviously this is not very useful. It tells us that the object is of the class `chair` and the memory address at which it decides. Wouldn't it be nice if instead it told us about the chair itself? We can do that by implementing another special method called `__str__()`."
   ]
  },
  {
   "cell_type": "code",
   "execution_count": 6,
   "metadata": {},
   "outputs": [],
   "source": [
    "class chair:\n",
    "    def __init__(self, legs, height, colour):\n",
    "        self.legs = legs\n",
    "        self.height = height\n",
    "        self.colour = colour\n",
    "        \n",
    "    def __str__(self):\n",
    "        return \"A {} legged, {}m tall, {} chair.\".format(self.legs, self.height, self.colour)\n",
    "    \n",
    "    def paint(self, newcolour):\n",
    "        self.colour = newcolour\n",
    "        \n",
    "my_chair = chair(6, 0.8, \"black\")"
   ]
  },
  {
   "cell_type": "markdown",
   "metadata": {},
   "source": [
    "Now let's see what happens if we print this new chair:"
   ]
  },
  {
   "cell_type": "code",
   "execution_count": 7,
   "metadata": {},
   "outputs": [
    {
     "name": "stdout",
     "output_type": "stream",
     "text": [
      "A 6 legged, 0.8m tall, black chair.\n"
     ]
    }
   ],
   "source": [
    "print(my_chair)"
   ]
  },
  {
   "cell_type": "markdown",
   "metadata": {},
   "source": [
    "Cool! Now whenever we want to get an idea of what chairs we have, we can just print them!\n",
    "\n",
    "Note that the `__str__()` method *must* return a string, though it can do other things in the function before it returns that.\n",
    "\n",
    "These magical methods that do strange things are known as **dunder** methods, as they start and end with a double underscore. There are many of these [(see here for more)](https://docs.python.org/3/reference/datamodel.html#special-method-names) and they do a wide variety of different things."
   ]
  },
  {
   "cell_type": "markdown",
   "metadata": {},
   "source": [
    "### `__repr__()`\n",
    "Sometimes it can be nice to have a way to get the code which can be used to generate an object. This is where the `__repr__()` dunder method comes in. It allows you to create a representation of an object in its current state. Let's implement `__repr__()` for our chair class"
   ]
  },
  {
   "cell_type": "code",
   "execution_count": 11,
   "metadata": {},
   "outputs": [],
   "source": [
    "class chair:\n",
    "    def __init__(self, legs, height, colour):\n",
    "        self.legs = legs\n",
    "        self.height = height\n",
    "        self.colour = colour\n",
    "        \n",
    "    def __repr__(self):\n",
    "        return 'chair({}, {}, \"{}\")'.format(self.legs, self.height, self.colour)\n",
    "        \n",
    "    def __str__(self):\n",
    "        return \"A {} legged, {}m tall, {} chair.\".format(self.legs, self.height, self.colour)\n",
    "    \n",
    "    def paint(self, newcolour):\n",
    "        self.colour = newcolour"
   ]
  },
  {
   "cell_type": "markdown",
   "metadata": {},
   "source": [
    "Now let's reinstantiate `my_chair` with the new class definition"
   ]
  },
  {
   "cell_type": "code",
   "execution_count": 12,
   "metadata": {},
   "outputs": [],
   "source": [
    "my_chair = chair(6, 0.8, \"black\")"
   ]
  },
  {
   "cell_type": "markdown",
   "metadata": {},
   "source": [
    "We can use the `repr()` function to check the representation of this object:"
   ]
  },
  {
   "cell_type": "code",
   "execution_count": 13,
   "metadata": {},
   "outputs": [
    {
     "data": {
      "text/plain": [
       "'chair(6, 0.8, \"black\")'"
      ]
     },
     "execution_count": 13,
     "metadata": {},
     "output_type": "execute_result"
    }
   ],
   "source": [
    "repr(my_chair)"
   ]
  },
  {
   "cell_type": "markdown",
   "metadata": {},
   "source": [
    "As you can see it returns the code that we wrote to generate the object in the first place!\n",
    "\n",
    "Something else important to note is that if you have not implemented the `__str__()` dunder method, when you call `print()` on an object it will fall back on `__repr__()` if that exists, and then only as a last resort will it print the unhelpful `<__main__.chair object at 0x7f70903cc550>` that we got earlier.\n",
    "\n",
    "It is generally good practice if you're going to be using a class for any serious work, to implement these methods, especially `__repr__()`."
   ]
  },
  {
   "cell_type": "markdown",
   "metadata": {},
   "source": [
    "### Making an iterable"
   ]
  },
  {
   "cell_type": "markdown",
   "metadata": {},
   "source": [
    "One major use of classes is as a container for data. You can think of these as structures that hold data and metadata in a standard form, kind of like a list or dictionary, but with **MORE FUNCTIONALITY**."
   ]
  },
  {
   "cell_type": "markdown",
   "metadata": {},
   "source": [
    "Let's make a simple class to hold a stack of chairs:"
   ]
  },
  {
   "cell_type": "code",
   "execution_count": 29,
   "metadata": {},
   "outputs": [],
   "source": [
    "class chairstack:\n",
    "    def __init__(self, chairs, location=\"lab\"):\n",
    "        self.chairs = chairs\n",
    "        self.location = location\n",
    "    \n",
    "    def __repr__(self):\n",
    "        return \"chairstack({})\".format(self.chairs)\n",
    "    \n",
    "    def __str__(self):\n",
    "        return \"Chair stack containing {} chair/s.\".format(len(self.chairs))\n",
    "        "
   ]
  },
  {
   "cell_type": "code",
   "execution_count": 30,
   "metadata": {},
   "outputs": [],
   "source": [
    "import random\n",
    "\n",
    "chair_stack = []\n",
    "for x in range(10):\n",
    "    # Make 10 green chairs with random numbers of legs and random heights\n",
    "    chair_stack.append(chair(random.randint(1, 10), random.random()*2, \"green\"))\n",
    "\n",
    "stack = chairstack(chair_stack)"
   ]
  },
  {
   "cell_type": "code",
   "execution_count": 31,
   "metadata": {},
   "outputs": [
    {
     "name": "stdout",
     "output_type": "stream",
     "text": [
      "Chair stack containing 10 chair/s.\n"
     ]
    }
   ],
   "source": [
    "print(stack)"
   ]
  },
  {
   "cell_type": "code",
   "execution_count": 32,
   "metadata": {},
   "outputs": [
    {
     "data": {
      "text/plain": [
       "'chairstack([chair(1, 1.9992412961167532, \"green\"), chair(3, 0.2105834904180064, \"green\"), chair(2, 1.6176897316557453, \"green\"), chair(7, 1.7888962306516658, \"green\"), chair(9, 0.7440377942808305, \"green\"), chair(4, 1.2826548361971992, \"green\"), chair(1, 0.8190978583547281, \"green\"), chair(6, 0.38071681789702505, \"green\"), chair(2, 1.2426887442579408, \"green\"), chair(9, 1.072086669793347, \"green\")])'"
      ]
     },
     "execution_count": 32,
     "metadata": {},
     "output_type": "execute_result"
    }
   ],
   "source": [
    "repr(stack)"
   ]
  },
  {
   "cell_type": "markdown",
   "metadata": {},
   "source": [
    "Now, what if we wanted to get height of the second chair in the stack? We can retrieve it as a property of the stack as follows..."
   ]
  },
  {
   "cell_type": "code",
   "execution_count": 33,
   "metadata": {},
   "outputs": [
    {
     "name": "stdout",
     "output_type": "stream",
     "text": [
      "0.2105834904180064\n"
     ]
    }
   ],
   "source": [
    "print(stack.chairs[1].height)"
   ]
  },
  {
   "cell_type": "markdown",
   "metadata": {},
   "source": [
    " However that feels a bit ungainly. When we are talking about the stack, really we want to be able to just say `stack[1].height` as when we're indexing the stack we know we just want to be getting an individual chair, i.e. when we say `stack[1]` we will always want the entry at `stack.chairs[1]`.\n",
    " \n",
    " Luckily there are extra methods that we can write which will allow this behaviour."
   ]
  },
  {
   "cell_type": "code",
   "execution_count": 41,
   "metadata": {},
   "outputs": [],
   "source": [
    "class chairstack:\n",
    "    def __init__(self, chairs, location=\"lab\"):\n",
    "        self.chairs = chairs\n",
    "        self.location = location\n",
    "    \n",
    "    def __repr__(self):\n",
    "        return \"chairstack({})\".format(self.chairs)\n",
    "    \n",
    "    def __str__(self):\n",
    "        return \"Chair stack containing {} chair/s.\".format(len(self.chairs))\n",
    "    \n",
    "    def __len__(self):\n",
    "        return len(self.chairs)\n",
    "        \n",
    "    def __getitem__(self, chair_num):\n",
    "          return self.chairs[chair_num]\n",
    "\n",
    "stack = chairstack(chair_stack)"
   ]
  },
  {
   "cell_type": "code",
   "execution_count": 42,
   "metadata": {},
   "outputs": [
    {
     "name": "stdout",
     "output_type": "stream",
     "text": [
      "A 1 legged, 1.9992412961167532m tall, green chair.\n",
      "A 3 legged, 0.2105834904180064m tall, green chair.\n",
      "A 2 legged, 1.6176897316557453m tall, green chair.\n",
      "A 7 legged, 1.7888962306516658m tall, green chair.\n",
      "A 9 legged, 0.7440377942808305m tall, green chair.\n",
      "A 4 legged, 1.2826548361971992m tall, green chair.\n",
      "A 1 legged, 0.8190978583547281m tall, green chair.\n",
      "A 6 legged, 0.38071681789702505m tall, green chair.\n",
      "A 2 legged, 1.2426887442579408m tall, green chair.\n",
      "A 9 legged, 1.072086669793347m tall, green chair.\n"
     ]
    }
   ],
   "source": [
    "for x in stack:\n",
    "    print(x)"
   ]
  },
  {
   "cell_type": "code",
   "execution_count": 43,
   "metadata": {},
   "outputs": [
    {
     "name": "stdout",
     "output_type": "stream",
     "text": [
      "A 3 legged, 0.2105834904180064m tall, green chair.\n"
     ]
    }
   ],
   "source": [
    "print(stack[1])"
   ]
  },
  {
   "cell_type": "markdown",
   "metadata": {},
   "source": [
    "Here, the `__len__()` method is called when you request `len(object)`, something you could either do just from the terminal, or this is also used internally when defining the parameters of an iteration.\n",
    "\n",
    "The `__getitem__()` method allows you to return an entry at a selected offset.\n",
    "\n",
    "There are also another two functions \\[`__iter__()` and `__next__()`\\] that allow more efficient iteration of these sorts of classes, however they don't improve usability as such, just make things quicker."
   ]
  },
  {
   "cell_type": "markdown",
   "metadata": {},
   "source": [
    "### There's so much more\n",
    "Dunder methods are widely varied, and defining them allows us to customise nearly every aspect of how a class operates in the wider context of a python program. It is definitely worthwhile at least becoming familiar with the fact that they exist, because you can end up making your life a whole chunk easier."
   ]
  },
  {
   "cell_type": "markdown",
   "metadata": {},
   "source": [
    "## Subclassing"
   ]
  },
  {
   "cell_type": "markdown",
   "metadata": {},
   "source": [
    "Another major feature of classes in python is the idea of subclassing.\n",
    "\n",
    "A chair (as we have been talking about the whole time so far) is a type of seat. There are also other types of seat such as stools and beanbags.\n",
    "\n",
    "Wouldn't it be nice to have a different class for each of these types of seat? However it's also a lot of work to implement 3 classes with almost exactly the same code inside.\n",
    "\n",
    "We can solve this using the joint ideas of subclassing and inheritance. A subclass *inherits* the methods and attributes of the parent class (also called the superclass)."
   ]
  },
  {
   "cell_type": "code",
   "execution_count": null,
   "metadata": {},
   "outputs": [],
   "source": [
    "class Seat:\n",
    "    def __init__(self, legs, height, colour):\n",
    "        self.legs = legs\n",
    "        self.height = height\n",
    "        self.colour = colour\n",
    "    \n",
    "    def __repr__(self):\n",
    "        return 'Seat({}, {}, \"{}\")'.format(self.legs, self.height, self.colour)\n",
    "        \n",
    "    def __str__(self):\n",
    "        return \"A {} legged, {}m tall, {} seat.\".format(self.legs, self.height, self.colour)\n",
    "    \n",
    "    def paint(self, newcolour):\n",
    "        self.colour = newcolour\n",
    "\n",
    "class Stool(Seat):\n",
    "    pass"
   ]
  },
  {
   "cell_type": "code",
   "execution_count": 44,
   "metadata": {},
   "outputs": [
    {
     "name": "stdout",
     "output_type": "stream",
     "text": [
      "A 3 legged, 0.9m tall, Black chair.\n"
     ]
    }
   ],
   "source": [
    "my_stool = Stool(3, 0.9, \"Black\")\n",
    "print(my_stool)"
   ]
  },
  {
   "cell_type": "markdown",
   "metadata": {},
   "source": [
    "Now you'll notice that the `Stool` class here acts like a `Seat` in all ways. However let's implement a beanbag."
   ]
  },
  {
   "cell_type": "code",
   "execution_count": 47,
   "metadata": {},
   "outputs": [
    {
     "name": "stdout",
     "output_type": "stream",
     "text": [
      "A 0 legged, 0.4m tall, Blue chair.\n"
     ]
    }
   ],
   "source": [
    "class Beanbag(Seat):\n",
    "    def __init__(self, legs, height, colour, filling):\n",
    "        self.filling = filling\n",
    "        super().__init__(legs, height, colour)\n",
    "\n",
    "my_beanbag = Beanbag(0, 0.4, \"Blue\", \"Polyester\")\n",
    "\n",
    "print(my_beanbag)"
   ]
  },
  {
   "cell_type": "markdown",
   "metadata": {},
   "source": [
    "Now notice here we added an extra attribute that only applies to Beanbags. Stools are not usually filled with anything for instance.\n",
    "\n",
    "A subclass has all the attributes and methods of its superclass, and of itself. If there is a conflict in name between the two, the methods/properties of the subclass take priority. This is called method overloading or overriding.\n",
    "\n",
    "*Note: There is actually a subtle difference between the two. Overloading is replacing the method with another one that has the same name, but different arguments. Overriding uses the same name and same arguments.*\n",
    "\n",
    "The Beanbag here is also unpaintable, as it is a flexible fabric and doesn't take paint very well. Thus we can override this method to raise an error as follows."
   ]
  },
  {
   "cell_type": "code",
   "execution_count": 52,
   "metadata": {},
   "outputs": [],
   "source": [
    "class Beanbag(Seat):\n",
    "    def __init__(self, legs, height, colour, filling):\n",
    "        self.filling = filling\n",
    "        super().__init__(legs, height, colour)\n",
    "    \n",
    "    def paint(self, newcolour):\n",
    "        raise TypeError(\"Cannot paint a Beanbag.\")        "
   ]
  },
  {
   "cell_type": "code",
   "execution_count": 53,
   "metadata": {},
   "outputs": [
    {
     "ename": "TypeError",
     "evalue": "Cannot paint a Beanbag.",
     "output_type": "error",
     "traceback": [
      "\u001b[0;31m---------------------------------------------------------------------------\u001b[0m",
      "\u001b[0;31mTypeError\u001b[0m                                 Traceback (most recent call last)",
      "\u001b[0;32m<ipython-input-53-4e4adc3286ef>\u001b[0m in \u001b[0;36m<module>\u001b[0;34m\u001b[0m\n\u001b[1;32m      1\u001b[0m \u001b[0mmy_beanbag\u001b[0m \u001b[0;34m=\u001b[0m \u001b[0mBeanbag\u001b[0m\u001b[0;34m(\u001b[0m\u001b[0;36m0\u001b[0m\u001b[0;34m,\u001b[0m \u001b[0;36m0.4\u001b[0m\u001b[0;34m,\u001b[0m \u001b[0;34m\"Blue\"\u001b[0m\u001b[0;34m,\u001b[0m \u001b[0;34m\"Polyester\"\u001b[0m\u001b[0;34m)\u001b[0m\u001b[0;34m\u001b[0m\u001b[0;34m\u001b[0m\u001b[0m\n\u001b[1;32m      2\u001b[0m \u001b[0;34m\u001b[0m\u001b[0m\n\u001b[0;32m----> 3\u001b[0;31m \u001b[0mmy_beanbag\u001b[0m\u001b[0;34m.\u001b[0m\u001b[0mpaint\u001b[0m\u001b[0;34m(\u001b[0m\u001b[0;34m\"Red\"\u001b[0m\u001b[0;34m)\u001b[0m\u001b[0;34m\u001b[0m\u001b[0;34m\u001b[0m\u001b[0m\n\u001b[0m",
      "\u001b[0;32m<ipython-input-52-c984cbdf941d>\u001b[0m in \u001b[0;36mpaint\u001b[0;34m(self, newcolour)\u001b[0m\n\u001b[1;32m      5\u001b[0m \u001b[0;34m\u001b[0m\u001b[0m\n\u001b[1;32m      6\u001b[0m     \u001b[0;32mdef\u001b[0m \u001b[0mpaint\u001b[0m\u001b[0;34m(\u001b[0m\u001b[0mself\u001b[0m\u001b[0;34m,\u001b[0m \u001b[0mnewcolour\u001b[0m\u001b[0;34m)\u001b[0m\u001b[0;34m:\u001b[0m\u001b[0;34m\u001b[0m\u001b[0;34m\u001b[0m\u001b[0m\n\u001b[0;32m----> 7\u001b[0;31m         \u001b[0;32mraise\u001b[0m \u001b[0mTypeError\u001b[0m\u001b[0;34m(\u001b[0m\u001b[0;34m\"Cannot paint a Beanbag.\"\u001b[0m\u001b[0;34m)\u001b[0m\u001b[0;34m\u001b[0m\u001b[0;34m\u001b[0m\u001b[0m\n\u001b[0m",
      "\u001b[0;31mTypeError\u001b[0m: Cannot paint a Beanbag."
     ]
    }
   ],
   "source": [
    "my_beanbag = Beanbag(0, 0.4, \"Blue\", \"Polyester\")\n",
    "\n",
    "my_beanbag.paint(\"Red\")"
   ]
  },
  {
   "cell_type": "markdown",
   "metadata": {},
   "source": [
    "## Custom exceptions"
   ]
  },
  {
   "cell_type": "markdown",
   "metadata": {},
   "source": [
    "We use exceptions a lot when coding in python. They tell us when we screwed something up, and we can use them to control the path of execution.\n",
    "\n",
    "The exceptions defined in Python as standard are very useful, but they don't necessarily cover exactly what you need. Sometimes you might want an exception that only handles certain elements. This can be done using the wonderful power of **subclassing**!\n",
    "\n",
    "Lets take a trivial function that makes animals say things."
   ]
  },
  {
   "cell_type": "code",
   "execution_count": 58,
   "metadata": {},
   "outputs": [
    {
     "ename": "AttributeError",
     "evalue": "Only dogs can go 'woof', cats cannot go 'woof'",
     "output_type": "error",
     "traceback": [
      "\u001b[0;31m---------------------------------------------------------------------------\u001b[0m",
      "\u001b[0;31mAttributeError\u001b[0m                            Traceback (most recent call last)",
      "\u001b[0;32m<ipython-input-58-501c379e8abe>\u001b[0m in \u001b[0;36m<module>\u001b[0;34m\u001b[0m\n\u001b[1;32m      6\u001b[0m         \u001b[0;32mraise\u001b[0m \u001b[0mAttributeError\u001b[0m\u001b[0;34m(\u001b[0m\u001b[0;34m\"Only dogs can go 'woof', {}s cannot go 'woof'\"\u001b[0m\u001b[0;34m.\u001b[0m\u001b[0mformat\u001b[0m\u001b[0;34m(\u001b[0m\u001b[0msubject\u001b[0m\u001b[0;34m)\u001b[0m\u001b[0;34m)\u001b[0m\u001b[0;34m\u001b[0m\u001b[0;34m\u001b[0m\u001b[0m\n\u001b[1;32m      7\u001b[0m \u001b[0;34m\u001b[0m\u001b[0m\n\u001b[0;32m----> 8\u001b[0;31m \u001b[0msay_woof\u001b[0m\u001b[0;34m(\u001b[0m\u001b[0;34m\"cat\"\u001b[0m\u001b[0;34m)\u001b[0m\u001b[0;34m\u001b[0m\u001b[0;34m\u001b[0m\u001b[0m\n\u001b[0m",
      "\u001b[0;32m<ipython-input-58-501c379e8abe>\u001b[0m in \u001b[0;36msay_woof\u001b[0;34m(subject)\u001b[0m\n\u001b[1;32m      4\u001b[0m         \u001b[0mprint\u001b[0m\u001b[0;34m(\u001b[0m\u001b[0;34m\"Woof\"\u001b[0m\u001b[0;34m)\u001b[0m\u001b[0;34m\u001b[0m\u001b[0;34m\u001b[0m\u001b[0m\n\u001b[1;32m      5\u001b[0m     \u001b[0;32melse\u001b[0m\u001b[0;34m:\u001b[0m\u001b[0;34m\u001b[0m\u001b[0;34m\u001b[0m\u001b[0m\n\u001b[0;32m----> 6\u001b[0;31m         \u001b[0;32mraise\u001b[0m \u001b[0mAttributeError\u001b[0m\u001b[0;34m(\u001b[0m\u001b[0;34m\"Only dogs can go 'woof', {}s cannot go 'woof'\"\u001b[0m\u001b[0;34m.\u001b[0m\u001b[0mformat\u001b[0m\u001b[0;34m(\u001b[0m\u001b[0msubject\u001b[0m\u001b[0;34m)\u001b[0m\u001b[0;34m)\u001b[0m\u001b[0;34m\u001b[0m\u001b[0;34m\u001b[0m\u001b[0m\n\u001b[0m\u001b[1;32m      7\u001b[0m \u001b[0;34m\u001b[0m\u001b[0m\n\u001b[1;32m      8\u001b[0m \u001b[0msay_woof\u001b[0m\u001b[0;34m(\u001b[0m\u001b[0;34m\"cat\"\u001b[0m\u001b[0;34m)\u001b[0m\u001b[0;34m\u001b[0m\u001b[0;34m\u001b[0m\u001b[0m\n",
      "\u001b[0;31mAttributeError\u001b[0m: Only dogs can go 'woof', cats cannot go 'woof'"
     ]
    }
   ],
   "source": [
    "def say_woof(subject):\n",
    "    subject = subject.lower()\n",
    "    if subject == \"dog\":\n",
    "        print(\"Woof\")\n",
    "    else:\n",
    "        raise AttributeError(\"Only dogs can go 'woof', {}s cannot go 'woof'\".format(subject))\n",
    "\n",
    "say_woof(\"cat\")"
   ]
  },
  {
   "cell_type": "markdown",
   "metadata": {},
   "source": [
    "This did the job very well, however it is quite broad. Anything that triggers an attribute error looks the same here, so if you try to set the subject to `1` then we will also get an attribute error."
   ]
  },
  {
   "cell_type": "code",
   "execution_count": 59,
   "metadata": {},
   "outputs": [
    {
     "ename": "AttributeError",
     "evalue": "'int' object has no attribute 'lower'",
     "output_type": "error",
     "traceback": [
      "\u001b[0;31m---------------------------------------------------------------------------\u001b[0m",
      "\u001b[0;31mAttributeError\u001b[0m                            Traceback (most recent call last)",
      "\u001b[0;32m<ipython-input-59-66290bf71aae>\u001b[0m in \u001b[0;36m<module>\u001b[0;34m\u001b[0m\n\u001b[0;32m----> 1\u001b[0;31m \u001b[0msay_woof\u001b[0m\u001b[0;34m(\u001b[0m\u001b[0;36m1\u001b[0m\u001b[0;34m)\u001b[0m\u001b[0;34m\u001b[0m\u001b[0;34m\u001b[0m\u001b[0m\n\u001b[0m",
      "\u001b[0;32m<ipython-input-58-501c379e8abe>\u001b[0m in \u001b[0;36msay_woof\u001b[0;34m(subject)\u001b[0m\n\u001b[1;32m      1\u001b[0m \u001b[0;32mdef\u001b[0m \u001b[0msay_woof\u001b[0m\u001b[0;34m(\u001b[0m\u001b[0msubject\u001b[0m\u001b[0;34m)\u001b[0m\u001b[0;34m:\u001b[0m\u001b[0;34m\u001b[0m\u001b[0;34m\u001b[0m\u001b[0m\n\u001b[0;32m----> 2\u001b[0;31m     \u001b[0msubject\u001b[0m \u001b[0;34m=\u001b[0m \u001b[0msubject\u001b[0m\u001b[0;34m.\u001b[0m\u001b[0mlower\u001b[0m\u001b[0;34m(\u001b[0m\u001b[0;34m)\u001b[0m\u001b[0;34m\u001b[0m\u001b[0;34m\u001b[0m\u001b[0m\n\u001b[0m\u001b[1;32m      3\u001b[0m     \u001b[0;32mif\u001b[0m \u001b[0msubject\u001b[0m \u001b[0;34m==\u001b[0m \u001b[0;34m\"dog\"\u001b[0m\u001b[0;34m:\u001b[0m\u001b[0;34m\u001b[0m\u001b[0;34m\u001b[0m\u001b[0m\n\u001b[1;32m      4\u001b[0m         \u001b[0mprint\u001b[0m\u001b[0;34m(\u001b[0m\u001b[0;34m\"Woof\"\u001b[0m\u001b[0;34m)\u001b[0m\u001b[0;34m\u001b[0m\u001b[0;34m\u001b[0m\u001b[0m\n\u001b[1;32m      5\u001b[0m     \u001b[0;32melse\u001b[0m\u001b[0;34m:\u001b[0m\u001b[0;34m\u001b[0m\u001b[0;34m\u001b[0m\u001b[0m\n",
      "\u001b[0;31mAttributeError\u001b[0m: 'int' object has no attribute 'lower'"
     ]
    }
   ],
   "source": [
    "say_woof(1)"
   ]
  },
  {
   "cell_type": "markdown",
   "metadata": {},
   "source": [
    "We may want to catch when the error is expected, but fail when it is unexpected, and at present we cannot differentiate between one of our own raised errors and an error that is triggered from some other operation failing. This is where a custom exception comes in. Let's define a new one:"
   ]
  },
  {
   "cell_type": "code",
   "execution_count": 63,
   "metadata": {},
   "outputs": [
    {
     "ename": "WoofError",
     "evalue": "Only dogs can go 'woof', chairs cannot go 'woof', they are chairs...",
     "output_type": "error",
     "traceback": [
      "\u001b[0;31m---------------------------------------------------------------------------\u001b[0m",
      "\u001b[0;31mWoofError\u001b[0m                                 Traceback (most recent call last)",
      "\u001b[0;32m<ipython-input-63-70e0b2acaa87>\u001b[0m in \u001b[0;36m<module>\u001b[0;34m\u001b[0m\n\u001b[1;32m      9\u001b[0m         \u001b[0;32mraise\u001b[0m \u001b[0mWoofError\u001b[0m\u001b[0;34m(\u001b[0m\u001b[0;34m\"Only dogs can go 'woof', {0}s cannot go 'woof', they are {0}s...\"\u001b[0m\u001b[0;34m.\u001b[0m\u001b[0mformat\u001b[0m\u001b[0;34m(\u001b[0m\u001b[0msubject\u001b[0m\u001b[0;34m)\u001b[0m\u001b[0;34m)\u001b[0m\u001b[0;34m\u001b[0m\u001b[0;34m\u001b[0m\u001b[0m\n\u001b[1;32m     10\u001b[0m \u001b[0;34m\u001b[0m\u001b[0m\n\u001b[0;32m---> 11\u001b[0;31m \u001b[0msay_woof\u001b[0m\u001b[0;34m(\u001b[0m\u001b[0;34m\"chair\"\u001b[0m\u001b[0;34m)\u001b[0m\u001b[0;34m\u001b[0m\u001b[0;34m\u001b[0m\u001b[0m\n\u001b[0m",
      "\u001b[0;32m<ipython-input-63-70e0b2acaa87>\u001b[0m in \u001b[0;36msay_woof\u001b[0;34m(subject)\u001b[0m\n\u001b[1;32m      7\u001b[0m         \u001b[0mprint\u001b[0m\u001b[0;34m(\u001b[0m\u001b[0;34m\"Woof\"\u001b[0m\u001b[0;34m)\u001b[0m\u001b[0;34m\u001b[0m\u001b[0;34m\u001b[0m\u001b[0m\n\u001b[1;32m      8\u001b[0m     \u001b[0;32melse\u001b[0m\u001b[0;34m:\u001b[0m\u001b[0;34m\u001b[0m\u001b[0;34m\u001b[0m\u001b[0m\n\u001b[0;32m----> 9\u001b[0;31m         \u001b[0;32mraise\u001b[0m \u001b[0mWoofError\u001b[0m\u001b[0;34m(\u001b[0m\u001b[0;34m\"Only dogs can go 'woof', {0}s cannot go 'woof', they are {0}s...\"\u001b[0m\u001b[0;34m.\u001b[0m\u001b[0mformat\u001b[0m\u001b[0;34m(\u001b[0m\u001b[0msubject\u001b[0m\u001b[0;34m)\u001b[0m\u001b[0;34m)\u001b[0m\u001b[0;34m\u001b[0m\u001b[0;34m\u001b[0m\u001b[0m\n\u001b[0m\u001b[1;32m     10\u001b[0m \u001b[0;34m\u001b[0m\u001b[0m\n\u001b[1;32m     11\u001b[0m \u001b[0msay_woof\u001b[0m\u001b[0;34m(\u001b[0m\u001b[0;34m\"chair\"\u001b[0m\u001b[0;34m)\u001b[0m\u001b[0;34m\u001b[0m\u001b[0;34m\u001b[0m\u001b[0m\n",
      "\u001b[0;31mWoofError\u001b[0m: Only dogs can go 'woof', chairs cannot go 'woof', they are chairs..."
     ]
    }
   ],
   "source": [
    "class WoofError(Exception):    # Hey look, a subclass!!\n",
    "    pass\n",
    "\n",
    "def say_woof(subject):\n",
    "    subject = subject.lower()\n",
    "    if subject == \"dog\":\n",
    "        print(\"Woof\")\n",
    "    else:\n",
    "        raise WoofError(\"Only dogs can go 'woof', {0}s cannot go 'woof', they are {0}s...\".format(subject))\n",
    "\n",
    "say_woof(\"chair\")"
   ]
  },
  {
   "cell_type": "code",
   "execution_count": 64,
   "metadata": {},
   "outputs": [
    {
     "ename": "AttributeError",
     "evalue": "'int' object has no attribute 'lower'",
     "output_type": "error",
     "traceback": [
      "\u001b[0;31m---------------------------------------------------------------------------\u001b[0m",
      "\u001b[0;31mAttributeError\u001b[0m                            Traceback (most recent call last)",
      "\u001b[0;32m<ipython-input-64-66290bf71aae>\u001b[0m in \u001b[0;36m<module>\u001b[0;34m\u001b[0m\n\u001b[0;32m----> 1\u001b[0;31m \u001b[0msay_woof\u001b[0m\u001b[0;34m(\u001b[0m\u001b[0;36m1\u001b[0m\u001b[0;34m)\u001b[0m\u001b[0;34m\u001b[0m\u001b[0;34m\u001b[0m\u001b[0m\n\u001b[0m",
      "\u001b[0;32m<ipython-input-63-70e0b2acaa87>\u001b[0m in \u001b[0;36msay_woof\u001b[0;34m(subject)\u001b[0m\n\u001b[1;32m      3\u001b[0m \u001b[0;34m\u001b[0m\u001b[0m\n\u001b[1;32m      4\u001b[0m \u001b[0;32mdef\u001b[0m \u001b[0msay_woof\u001b[0m\u001b[0;34m(\u001b[0m\u001b[0msubject\u001b[0m\u001b[0;34m)\u001b[0m\u001b[0;34m:\u001b[0m\u001b[0;34m\u001b[0m\u001b[0;34m\u001b[0m\u001b[0m\n\u001b[0;32m----> 5\u001b[0;31m     \u001b[0msubject\u001b[0m \u001b[0;34m=\u001b[0m \u001b[0msubject\u001b[0m\u001b[0;34m.\u001b[0m\u001b[0mlower\u001b[0m\u001b[0;34m(\u001b[0m\u001b[0;34m)\u001b[0m\u001b[0;34m\u001b[0m\u001b[0;34m\u001b[0m\u001b[0m\n\u001b[0m\u001b[1;32m      6\u001b[0m     \u001b[0;32mif\u001b[0m \u001b[0msubject\u001b[0m \u001b[0;34m==\u001b[0m \u001b[0;34m\"dog\"\u001b[0m\u001b[0;34m:\u001b[0m\u001b[0;34m\u001b[0m\u001b[0;34m\u001b[0m\u001b[0m\n\u001b[1;32m      7\u001b[0m         \u001b[0mprint\u001b[0m\u001b[0;34m(\u001b[0m\u001b[0;34m\"Woof\"\u001b[0m\u001b[0;34m)\u001b[0m\u001b[0;34m\u001b[0m\u001b[0;34m\u001b[0m\u001b[0m\n",
      "\u001b[0;31mAttributeError\u001b[0m: 'int' object has no attribute 'lower'"
     ]
    }
   ],
   "source": [
    "say_woof(1)"
   ]
  },
  {
   "cell_type": "markdown",
   "metadata": {},
   "source": [
    "Now we can catch `WoofError` exceptions without accidentally catching any exceptions that are not WoofErrors.\n",
    "\n",
    "Your custom exceptions can do whatever you want them to do, and as such are very useful when writing larger scripts and packages."
   ]
  }
 ],
 "metadata": {
  "kernelspec": {
   "display_name": "Python 3",
   "language": "python",
   "name": "python3"
  },
  "language_info": {
   "codemirror_mode": {
    "name": "ipython",
    "version": 3
   },
   "file_extension": ".py",
   "mimetype": "text/x-python",
   "name": "python",
   "nbconvert_exporter": "python",
   "pygments_lexer": "ipython3",
   "version": "3.8.2"
  },
  "toc": {
   "base_numbering": 1,
   "nav_menu": {},
   "number_sections": true,
   "sideBar": true,
   "skip_h1_title": false,
   "title_cell": "Table of Contents",
   "title_sidebar": "Contents",
   "toc_cell": false,
   "toc_position": {},
   "toc_section_display": true,
   "toc_window_display": false
  }
 },
 "nbformat": 4,
 "nbformat_minor": 4
}

{
 "cells": [
  {
   "cell_type": "markdown",
   "metadata": {},
   "source": [
    "# Logging in Python"
   ]
  },
  {
   "cell_type": "markdown",
   "metadata": {},
   "source": [
    "Knowing what your python program is doing is essential to understanding if it is working correctly. This seems like an obvious statement, but a lot of the time we do this sort of verifications without thinking about it. You could be using:\n",
    "- Print statements\n",
    "- A debugger & breakpoints\n",
    "- Output verification (data files or graphs)\n",
    "- Other, less quantitative methods:\n",
    "    - Is this program running too long?\n",
    "    - Is this program using any cpu?\n",
    "    - etc.\n",
    "\n",
    "Unfortunately, there are a few problems with these methods when we come to larger tasks, such as big monte-carlo simulation:\n",
    "\n",
    "- Print statements are very slow and you might not want to print everything all of the time\n",
    "- Debuggers are great for development, but you may not be at your computer when something fails\n",
    "- Running a program in a debugger is slower than running it without a debugger\n",
    "- You don't want to constantly be checking your outputs for x hours straight.\n",
    "- You don't want to constantly be checking your cpu usage.\n",
    "- \"Too long\" might not have much meaning, depending on the algorithm you are performing.\n",
    "\n",
    "Wouldn't it be nice if your program produced a report as it went in which it recorded things you wanted to know and any errors it found?\n",
    "\n",
    "**THIS** is where logging comes in."
   ]
  },
  {
   "cell_type": "markdown",
   "metadata": {},
   "source": [
    "## The basics of logging"
   ]
  },
  {
   "cell_type": "markdown",
   "metadata": {},
   "source": [
    "\n",
    "Logging is much like a much more highly controlled print system. Anywhere you might put a `print()` you can put a log statement instead.\n",
    "\n",
    "In Python, it is split into a few classes that work with each other to customise the log output:\n",
    "\n",
    "- Loggers expose the interface that application code directly uses.\n",
    "- Handlers send the log records (created by loggers) to the appropriate destination (e.g. the screen or a file)\n",
    "- Filters provide a finer grained facility for determining which log records to output.\n",
    "- Formatters specify the layout of log records in the final output.\n",
    "\n",
    "\n",
    "## Logging levels\n",
    "\n",
    "Logging in python has a system to organise and filter log statements by **level** (aka priority). In order from least severe to most severe these are as follows:\n",
    "- `DEBUG`\n",
    "- `INFO`\n",
    "- `WARNING`\n",
    "- `ERROR`\n",
    "- `CRITICAL`\n",
    "\n",
    "There are no absolute rules for how to use these, but the following sections give a good framework within which to work.\n",
    "\n",
    "---\n",
    "\n",
    "### `DEBUG`\n",
    "Use debug everywhere as a fine-scale feedback system for large jobs. For instance if you were looping through a file row by row, you might add a debug log entry saying `Working on row x`, and maybe even a debug entry for every operation you are doing.\n",
    "\n",
    "### `INFO`\n",
    "The `INFO` level is your general purpose logging level. It can be used for coarse status updates and generally tracking the control flow as the program runs. Log entries at this level might look like the following:\n",
    "- `Loading data...`\n",
    "- `Fitting curves (10/100)`\n",
    "- `Rendering graphs`\n",
    "\n",
    "### `WARNING`\n",
    "This log level is used when something is out of the ordinary, but in a manner which is handled or known about and mitigated. For example:\n",
    "- `Rate parameter not supplied, falling back to default (0.5)`\n",
    "- `Data contains 0s, skipping log transformation...`\n",
    "- `Not enough points to fit a 5 parameter curve (3 points in sample), skipping...`\n",
    "\n",
    "### `ERROR`\n",
    "Errors occur when something big went wrong in a non-fatal way. This can be a bit hard to define, but safe to say if you're really annoyed that it's occuring, it's probably an `ERROR`. Examples include:\n",
    "- `File 34/60 unreadable or missing`\n",
    "- `Data file empty`\n",
    "- `Unexpected error in fitting curve 2/5 for Species 18`\n",
    "- `Data has 0 variance and is thus identical`\n",
    "\n",
    "### `CRITICAL`\n",
    "You do not want to see `CRITICAL` errors. These are a sign that something vital has gone wrong which makes the program inviable to execute past that point. It could also be a sign that something has gone wrong which may have had lasting side-effects that require cleaning up or mitigating. Examples could be:\n",
    "- `Cannot access database`\n",
    "- `No cores detected for multithreading`\n",
    "- `Missing system libraries for GDAL`\n",
    "- `Error when performing in-place edit to file. File may now be corrupt!`\n",
    "\n",
    "---\n",
    "\n",
    "To put these in a slightly more intuitive way, here are my translations of log levels in terms of how they should make you feel when you see them:\n",
    "- `DEBUG` - \"Cool, literally everything works.\"\n",
    "- `INFO` - \"Nice to know how things are progressing.\"\n",
    "- `WARNING` - \"Hmm.\"\n",
    "- `ERROR` - \"Bugger.\"\n",
    "- `CRITICAL` - \"I'm going to set this computer on fire in a minute...\""
   ]
  },
  {
   "cell_type": "markdown",
   "metadata": {},
   "source": [
    "## Implementing logging"
   ]
  },
  {
   "cell_type": "markdown",
   "metadata": {},
   "source": [
    "Let's implement logging in a script. Currently it is in a state which produces a lot of useless output. Take a minute to have a look and work out how the script works."
   ]
  },
  {
   "cell_type": "code",
   "execution_count": 1,
   "metadata": {},
   "outputs": [
    {
     "name": "stdout",
     "output_type": "stream",
     "text": [
      "Training 20 padawan/s\n",
      "Training padawan 0\n",
      "Light = 8, Dark = 3\n",
      "Training padawan 1\n",
      "Light = 7, Dark = 6\n",
      "Training padawan 2\n",
      "Light = 5, Dark = 3\n",
      "Training padawan 3\n",
      "Light = 5, Dark = 2\n",
      "Training padawan 4\n",
      "Light = 10, Dark = 2\n",
      "Training padawan 5\n",
      "Light = 6, Dark = 6\n",
      "Training padawan 6\n",
      "Light = 6, Dark = 7\n",
      "Padawan has fallen to the dark side.\n",
      "Training padawan 7\n",
      "Light = 10, Dark = 7\n",
      "Training padawan 8\n",
      "Light = 9, Dark = 2\n",
      "Training padawan 9\n",
      "Light = 8, Dark = 6\n",
      "Training padawan 10\n",
      "Light = 9, Dark = 2\n",
      "Training padawan 11\n",
      "Light = 7, Dark = 2\n",
      "Training padawan 12\n",
      "Light = 7, Dark = 6\n",
      "Training padawan 13\n",
      "Light = 5, Dark = 2\n",
      "Training padawan 14\n",
      "Light = 5, Dark = 2\n",
      "Training padawan 15\n",
      "Light = 7, Dark = 2\n",
      "Training padawan 16\n",
      "Light = 7, Dark = 0\n",
      "Training padawan 17\n",
      "Light = 6, Dark = 4\n",
      "Training padawan 18\n",
      "Light = 5, Dark = 1\n",
      "Training padawan 19\n",
      "Light = 7, Dark = 1\n"
     ]
    }
   ],
   "source": [
    "# Some setup\n",
    "import random\n",
    "\n",
    "class SithError(Exception):\n",
    "    pass\n",
    "\n",
    "\n",
    "# Main script\n",
    "\n",
    "def train_padawans(n):\n",
    "    print(f\"Training {n} padawan/s\")\n",
    "    trained_successfully = 0\n",
    "    for i in range(n):\n",
    "        try:\n",
    "            print(f\"Training padawan {i}\")\n",
    "            train(i)\n",
    "            trained_successfully += 1\n",
    "        except SithError:\n",
    "            print(\"Padawan has fallen to the dark side.\")\n",
    "\n",
    "def train(padawan):\n",
    "    lightpoints = random.randint(5,10)\n",
    "    darkpoints = random.randint(0,7)\n",
    "    print(f\"Light = {lightpoints}, Dark = {darkpoints}\")\n",
    "    if darkpoints > lightpoints:\n",
    "        raise SithError\n",
    "    else:\n",
    "        return 0\n",
    "    \n",
    "train_padawans(20)"
   ]
  },
  {
   "cell_type": "markdown",
   "metadata": {},
   "source": [
    "So let's see if we can make this more informative and reasonable to debug and manage.\n",
    "\n",
    "## Setting up the logging system\n",
    "\n",
    "You usually want to set up logging at the start of your script, before doing much else. Only your header and imports usually come beforehand (as anything that is done before setting up logging **can't be logged**)\n",
    "\n",
    "First let's import logging and get the `root` logger, this is always intantiated and in the absence of a custom logger, this will do the trick for many applications."
   ]
  },
  {
   "cell_type": "code",
   "execution_count": 2,
   "metadata": {},
   "outputs": [],
   "source": [
    "import logging\n",
    "\n",
    "logger = logging.getLogger()"
   ]
  },
  {
   "cell_type": "markdown",
   "metadata": {},
   "source": [
    "Alternatively if we want a logger specific to our script we could initialise one as follows:"
   ]
  },
  {
   "cell_type": "code",
   "execution_count": 3,
   "metadata": {},
   "outputs": [],
   "source": [
    "logger = logging.getLogger(\"MyScript\")"
   ]
  },
  {
   "cell_type": "markdown",
   "metadata": {},
   "source": [
    "Now we have done that we can set up the logging format for the messages. These can be formatted like any string, but for now let's get the log messages in the format `2020-09-08 19:16:16,855 - INFO - Log message`"
   ]
  },
  {
   "cell_type": "code",
   "execution_count": 4,
   "metadata": {},
   "outputs": [],
   "source": [
    "formatter = logging.Formatter('%(asctime)s - %(levelname)s - %(message)s')"
   ]
  },
  {
   "cell_type": "markdown",
   "metadata": {},
   "source": [
    "This format string might seem a little arcane, but it relates to the [LogRecord attributes](https://docs.python.org/3/library/logging.html#logrecord-attributes), the data contained in the Log record.\n",
    "\n",
    "Anyway a formatter on its own will do little good, we need to also add a stream handler to pass data to the console. The handler decides where the log records generated by logging calls are directed."
   ]
  },
  {
   "cell_type": "code",
   "execution_count": 5,
   "metadata": {},
   "outputs": [],
   "source": [
    "chandler = logging.StreamHandler()"
   ]
  },
  {
   "cell_type": "markdown",
   "metadata": {},
   "source": [
    "Good, however this handler is unconfigured and could cause us problems if we use it as-is. Let's set the handler to only transmit log entries at an `INFO` level and higher. We will also set the handler to use the formatter we created above"
   ]
  },
  {
   "cell_type": "code",
   "execution_count": 6,
   "metadata": {},
   "outputs": [],
   "source": [
    "chandler.setLevel(logging.INFO)\n",
    "chandler.setFormatter(formatter)"
   ]
  },
  {
   "cell_type": "markdown",
   "metadata": {},
   "source": [
    "Finally we need to add this handler to the logger we retrieved at the top."
   ]
  },
  {
   "cell_type": "code",
   "execution_count": 7,
   "metadata": {},
   "outputs": [],
   "source": [
    "logger.addHandler(chandler)"
   ]
  },
  {
   "cell_type": "markdown",
   "metadata": {},
   "source": [
    "*Note: the root logger is set by default to only deal with logs at an `ERROR` level or above. In this case we want it to accept and handle log entries at a `DEBUG` level and above.*"
   ]
  },
  {
   "cell_type": "code",
   "execution_count": 8,
   "metadata": {},
   "outputs": [],
   "source": [
    "logger.setLevel(logging.DEBUG)"
   ]
  },
  {
   "cell_type": "markdown",
   "metadata": {},
   "source": [
    "And we are all set!\n",
    "\n",
    "## Logging messages\n",
    "Now let's test it using log messages at all levels. To do this we need to call `logger.x()` where `x` is the level we want to log at. So to log a `WARNING` you would use `logger.warning()`."
   ]
  },
  {
   "cell_type": "code",
   "execution_count": 9,
   "metadata": {},
   "outputs": [
    {
     "name": "stderr",
     "output_type": "stream",
     "text": [
      "2022-10-02 15:08:08,988 - INFO - INFO message\n",
      "2022-10-02 15:08:08,988 - WARNING - WARNING message\n",
      "2022-10-02 15:08:08,989 - ERROR - ERROR message\n",
      "2022-10-02 15:08:08,989 - CRITICAL - CRITICAL message\n"
     ]
    }
   ],
   "source": [
    "logger.debug(\"DEBUG message\")\n",
    "logger.info(\"INFO message\")\n",
    "logger.warning(\"WARNING message\")\n",
    "logger.error(\"ERROR message\")\n",
    "logger.critical(\"CRITICAL message\")"
   ]
  },
  {
   "cell_type": "markdown",
   "metadata": {},
   "source": [
    "Notice how we only got 4 messages from the logger even though we wrote 5 commands.\n",
    "\n",
    "As the `chandler` handler is set to a level of `INFO` it steadfastly ignores any message that it sees that are below that level, thus the `DEBUG` message was not logged. Let's change that for now and see what happens."
   ]
  },
  {
   "cell_type": "code",
   "execution_count": 10,
   "metadata": {},
   "outputs": [
    {
     "name": "stderr",
     "output_type": "stream",
     "text": [
      "2022-10-02 15:08:11,254 - DEBUG - DEBUG message\n",
      "2022-10-02 15:08:11,255 - INFO - INFO message\n",
      "2022-10-02 15:08:11,255 - WARNING - WARNING message\n",
      "2022-10-02 15:08:11,255 - ERROR - ERROR message\n",
      "2022-10-02 15:08:11,256 - CRITICAL - CRITICAL message\n"
     ]
    }
   ],
   "source": [
    "chandler.setLevel(logging.DEBUG)\n",
    "\n",
    "\n",
    "logger.debug(\"DEBUG message\")\n",
    "logger.info(\"INFO message\")\n",
    "logger.warning(\"WARNING message\")\n",
    "logger.error(\"ERROR message\")\n",
    "logger.critical(\"CRITICAL message\")"
   ]
  },
  {
   "cell_type": "markdown",
   "metadata": {},
   "source": [
    "Now we got all the log messages as expected. It is generally good practice to make sure that the logs that you are seeing by default are at `INFO` level and above, and that you're not logging every little thing at `INFO` level either. If a log at `INFO` level is absolutely packed full of things you rarely care about, it's worthwhile reconsidering the levels at which you are logging some of your messages.\n",
    "\n",
    "With that in mind, let's move the `chandler` back to INFO level."
   ]
  },
  {
   "cell_type": "code",
   "execution_count": 11,
   "metadata": {},
   "outputs": [],
   "source": [
    "chandler.setLevel(logging.INFO)"
   ]
  },
  {
   "cell_type": "markdown",
   "metadata": {},
   "source": [
    "## Inserting Variables"
   ]
  },
  {
   "cell_type": "markdown",
   "metadata": {},
   "source": [
    "Debug strings are just strings, as such they _can_ be formatted using f-strings as we have done during the course so far."
   ]
  },
  {
   "cell_type": "code",
   "execution_count": 12,
   "metadata": {},
   "outputs": [
    {
     "name": "stderr",
     "output_type": "stream",
     "text": [
      "2022-10-02 15:08:12,996 - INFO - x = 42\n"
     ]
    }
   ],
   "source": [
    "x = 42\n",
    "logger.info(f\"{x = }\")"
   ]
  },
  {
   "cell_type": "markdown",
   "metadata": {},
   "source": [
    "However this is actually a bit suboptimal in some cases [see here for more in-depth details](https://blog.pilosus.org/posts/2020/01/24/python-f-strings-in-logging/).\n",
    "\n",
    "It is therefore best when inputting formatted strings in logging to use the old-style % formatting, and to pass the data to be formatted as an argument to the logger method:"
   ]
  },
  {
   "cell_type": "code",
   "execution_count": 13,
   "metadata": {},
   "outputs": [
    {
     "name": "stderr",
     "output_type": "stream",
     "text": [
      "2022-10-02 15:08:13,537 - INFO - x = 42\n"
     ]
    }
   ],
   "source": [
    "logger.info(\"x = %d\", x)"
   ]
  },
  {
   "cell_type": "markdown",
   "metadata": {},
   "source": [
    "This little optimisation makes more difference the more logging calls you make (even ones below the current log level of the handler or logger).\n",
    "\n",
    "Thus depending on how much you are logging, this little tip could be either a big deal, or a major inconvenience for a minor gain in speed."
   ]
  },
  {
   "cell_type": "markdown",
   "metadata": {},
   "source": [
    "## Challenge 1"
   ]
  },
  {
   "cell_type": "markdown",
   "metadata": {},
   "source": [
    "Try to modify the jedi training script above to use appropriate logging. Note there is no right or wrong answer for this, but try to apply the guidelines at the top of the workbook."
   ]
  },
  {
   "cell_type": "markdown",
   "metadata": {},
   "source": [
    "## Logging exceptions\n",
    "Exceptions can be handled using just a simple `logger.error()` command with an appropriate message, however this will only display the message that you set. An exception usually gives a lot more information, such as a stack trace, and this would be useful to have in the log!\n",
    "\n",
    "Here is where a special logger method caller `logger.exception()` comes in.\n",
    "\n",
    "For example:"
   ]
  },
  {
   "cell_type": "code",
   "execution_count": 14,
   "metadata": {},
   "outputs": [
    {
     "name": "stderr",
     "output_type": "stream",
     "text": [
      "2022-10-02 15:08:15,391 - ERROR - An error occurred\n"
     ]
    },
    {
     "name": "stdout",
     "output_type": "stream",
     "text": [
      "0.8333333333333334\n",
      "0.8\n",
      "0.75\n",
      "0.6666666666666666\n",
      "0.5\n",
      "-0.0\n"
     ]
    }
   ],
   "source": [
    "def div_by_nsub1(n):\n",
    "    return n/(n-1)\n",
    "\n",
    "try:\n",
    "    for i in range(-5, 5):\n",
    "        print(div_by_nsub1(i))\n",
    "except Exception:\n",
    "    logger.error(\"An error occurred\")"
   ]
  },
  {
   "cell_type": "markdown",
   "metadata": {},
   "source": [
    "And now the same thing but using `logger.exception()` instead of `logger.error()`."
   ]
  },
  {
   "cell_type": "code",
   "execution_count": 15,
   "metadata": {},
   "outputs": [
    {
     "name": "stderr",
     "output_type": "stream",
     "text": [
      "2022-10-02 15:08:15,939 - ERROR - An error occurred\n",
      "Traceback (most recent call last):\n",
      "  File \"/tmp/ipykernel_16810/2065718702.py\", line 6, in <module>\n",
      "    print(div_by_nsub1(i))\n",
      "  File \"/tmp/ipykernel_16810/2065718702.py\", line 2, in div_by_nsub1\n",
      "    return n/(n-1)\n",
      "ZeroDivisionError: division by zero\n"
     ]
    },
    {
     "name": "stdout",
     "output_type": "stream",
     "text": [
      "0.8333333333333334\n",
      "0.8\n",
      "0.75\n",
      "0.6666666666666666\n",
      "0.5\n",
      "-0.0\n"
     ]
    }
   ],
   "source": [
    "def div_by_nsub1(n):\n",
    "    return n/(n-1)\n",
    "\n",
    "try:\n",
    "    for i in range(-5, 5):\n",
    "        print(div_by_nsub1(i))\n",
    "except Exception:\n",
    "    logger.exception(\"An error occurred\")"
   ]
  },
  {
   "cell_type": "markdown",
   "metadata": {},
   "source": [
    "Note the large amount of extra information present in the stack trace alongside the error message itself! Much easier to see exactly where in the code the error was triggered (`line 2, in div_by_nsub1`).\n",
    "\n",
    "Also worthwhile noting that `logger.exception()` logs at the `ERROR` level.\n",
    "\n",
    "You don't *need* to use the `logger.exception()` method to write to the log whenever you catch an exception, and in many situations it will just spam up your log with useless information (precisely what we are trying to avoid). If you think that the information contained in the stack trace will be useful then use `logger.exception()`, otherwise another form will do just as well.\n",
    "\n",
    "## HIGHLY RECOMMENDED READING\n",
    "At this point, go to the following article, read it in full (should take less than 5 minutes), then bookmark it for future reference.\n",
    "\n",
    "It provides some really nice ways to log python exceptions and I thoroughly recommend everyone read this before implementing logging in their own code.\n",
    "\n",
    "---\n",
    "\n",
    "> [**Exceptional logging of exceptions in Python**](https://www.loggly.com/blog/exceptional-logging-of-exceptions-in-python/)\n",
    "\n",
    "---"
   ]
  },
  {
   "cell_type": "markdown",
   "metadata": {},
   "source": [
    "## Logging to a file"
   ]
  },
  {
   "cell_type": "markdown",
   "metadata": {},
   "source": [
    "The console isn't the only place you might want to put a log. Arguably more useful is a log file that you can investigate and search at your leisure. To create a logger that writes to the file `my.log` in the current directory, you can set up and attach another handler as follows:"
   ]
  },
  {
   "cell_type": "code",
   "execution_count": 13,
   "metadata": {},
   "outputs": [],
   "source": [
    "fhandler = logging.FileHandler('my.log')\n",
    "fhandler.setLevel(logging.DEBUG)\n",
    "fhandler.setFormatter(formatter)\n",
    "logger.addHandler(fhandler)"
   ]
  },
  {
   "cell_type": "markdown",
   "metadata": {},
   "source": [
    "Note that it is possible to have different handlers with differing log levels or formatters.\n",
    "\n",
    "Now let's log some stuff!"
   ]
  },
  {
   "cell_type": "code",
   "execution_count": 14,
   "metadata": {},
   "outputs": [
    {
     "name": "stderr",
     "output_type": "stream",
     "text": [
      "2020-09-08 21:02:02,469 - INFO - INFO message\n",
      "2020-09-08 21:02:02,470 - WARNING - WARNING message\n",
      "2020-09-08 21:02:02,470 - ERROR - ERROR message\n",
      "2020-09-08 21:02:02,471 - ERROR - EXCEPTION + stacktrace\n",
      "Traceback (most recent call last):\n",
      "  File \"<ipython-input-14-e48625660833>\", line 6, in <module>\n",
      "    x = 1/0\n",
      "ZeroDivisionError: division by zero\n",
      "2020-09-08 21:02:02,471 - CRITICAL - CRITICAL message\n"
     ]
    }
   ],
   "source": [
    "logger.debug(\"DEBUG message\")\n",
    "logger.info(\"INFO message\")\n",
    "logger.warning(\"WARNING message\")\n",
    "logger.error(\"ERROR message\")\n",
    "try:\n",
    "    x = 1/0\n",
    "except Exception:\n",
    "    logger.exception(\"EXCEPTION + stacktrace\")\n",
    "\n",
    "logger.critical(\"CRITICAL message\")"
   ]
  },
  {
   "cell_type": "markdown",
   "metadata": {},
   "source": [
    "And let's look at what is in the log file"
   ]
  },
  {
   "cell_type": "code",
   "execution_count": 15,
   "metadata": {},
   "outputs": [
    {
     "name": "stdout",
     "output_type": "stream",
     "text": [
      "2020-09-08 21:02:02,469 - DEBUG - DEBUG message\n",
      "2020-09-08 21:02:02,469 - INFO - INFO message\n",
      "2020-09-08 21:02:02,470 - WARNING - WARNING message\n",
      "2020-09-08 21:02:02,470 - ERROR - ERROR message\n",
      "2020-09-08 21:02:02,471 - ERROR - EXCEPTION + stacktrace\n",
      "Traceback (most recent call last):\n",
      "File \"<ipython-input-14-e48625660833>\", line 6, in <module>\n",
      "x = 1/0\n",
      "ZeroDivisionError: division by zero\n",
      "2020-09-08 21:02:02,471 - CRITICAL - CRITICAL message\n"
     ]
    }
   ],
   "source": [
    "with open(\"my.log\", \"r\") as f:\n",
    "    for line in f:\n",
    "        print(line.strip())"
   ]
  },
  {
   "cell_type": "markdown",
   "metadata": {},
   "source": [
    "As we can see here, even the bits that are logged at `DEBUG` level are appearing in the log file, but they do NOT appear at the console level."
   ]
  },
  {
   "cell_type": "markdown",
   "metadata": {},
   "source": [
    "## Final notes"
   ]
  },
  {
   "cell_type": "markdown",
   "metadata": {},
   "source": [
    "With these skills you should now be able to set up logging for large scripts easily and use it effectively to provide insight into the inner workings of a script as it is running. A few final tips to see you off:\n",
    "\n",
    "- You can follow a log file in real time as a program is running using the bash command `tail -f my.log`. You can quit this view using Ctrl+C.\n",
    "- Implementing a debug mode can be quite a good idea at the top of a file. With a simple boolean value, you can switch between different logging setups, leading to a way to easily turn on a much more detailed view of what is going on.\n",
    "- There is a package called `logzero` that makes a lot of this stuff even easier, go check it out!\n",
    "- Logging in R is possible using the `futile.logger` package or a few others, however in my experience it is less powerful. Nonetheless the same reasons for using it apply."
   ]
  }
 ],
 "metadata": {
  "kernelspec": {
   "display_name": "Python 3 (ipykernel)",
   "language": "python",
   "name": "python3"
  },
  "language_info": {
   "codemirror_mode": {
    "name": "ipython",
    "version": 3
   },
   "file_extension": ".py",
   "mimetype": "text/x-python",
   "name": "python",
   "nbconvert_exporter": "python",
   "pygments_lexer": "ipython3",
   "version": "3.10.6"
  },
  "toc": {
   "base_numbering": 1,
   "nav_menu": {},
   "number_sections": true,
   "sideBar": true,
   "skip_h1_title": false,
   "title_cell": "Table of Contents",
   "title_sidebar": "Contents",
   "toc_cell": false,
   "toc_position": {},
   "toc_section_display": true,
   "toc_window_display": false
  }
 },
 "nbformat": 4,
 "nbformat_minor": 4
}
